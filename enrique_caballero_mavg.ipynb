{
 "cells": [
  {
   "cell_type": "code",
   "execution_count": 23,
   "id": "1b03ed65-4b23-45e8-a699-726d9c3bd5f8",
   "metadata": {},
   "outputs": [],
   "source": [
    "# This program implements a moving average strategy\n",
    "# using daily price movements for 254 trading days (~ 1 calendar year)\n",
    "#\n",
    "import random\n",
    "import numpy as np\n",
    "import math"
   ]
  },
  {
   "cell_type": "code",
   "execution_count": 51,
   "id": "eaaf35da-f04f-4171-bb62-f76d11c4ccc5",
   "metadata": {},
   "outputs": [
    {
     "name": "stdout",
     "output_type": "stream",
     "text": [
      "0.0\n",
      "-0.5009408664531259\n",
      "[-0.60612102 -1.05993975 -0.55091967 ... -1.90191447 -0.31665897\n",
      " -0.50094087]\n"
     ]
    }
   ],
   "source": [
    "# Initialize a vector of zeroes nran = 100\n",
    "Totalpaths = 10\n",
    "Nstep = 254 # Number of trading days (1 year = 254 trading days)\n",
    "nran = Nstep * Totalpaths\n",
    "#\n",
    "# Initialize the r_draw array with zeros\n",
    "r_draw = np.zeros(nran, dtype='float')\n",
    "#\n",
    "print(r_draw[1])\n",
    "#\n",
    "np.random.seed(91)\n",
    "#\n",
    "for x in range(nran):\n",
    "    r_draw[x] = np.random.normal(loc=0, scale=1)\n",
    "    # r_draw[x] = np.random.normal(loc=0, scale=1, size=None)\n",
    "#\n",
    "# Created an array of size nran. Note that indexing is from 0 to nran-1\n",
    "print(r_draw[nran - 1])\n",
    "print(r_draw)"
   ]
  },
  {
   "cell_type": "code",
   "execution_count": 39,
   "id": "a10405fe-d4c6-467a-96a2-c02193a98c14",
   "metadata": {},
   "outputs": [
    {
     "name": "stdout",
     "output_type": "stream",
     "text": [
      "DeltaT 0.003937007874015748\n",
      "npath 1\n",
      "npath 2\n",
      "npath 3\n",
      "npath 4\n",
      "npath 5\n",
      "npath 6\n",
      "npath 7\n",
      "npath 8\n",
      "npath 9\n",
      "npath 10\n",
      "x 2539\n",
      "123.1103901975257\n",
      "[[100.90113234 100.00761003  97.6083521  ...  97.63436667  99.50621783\n",
      "   99.06796431]\n",
      " [102.22137774 100.33489206  98.71686304 ...  98.12831574 100.94348631\n",
      "  100.58360377]\n",
      " [102.11768059 103.96127183  98.83619532 ...  98.72914116 102.74928844\n",
      "  101.204506  ]\n",
      " ...\n",
      " [123.28108718 133.3516744   85.6873667  ... 101.79666265 125.00588551\n",
      "  139.20695794]\n",
      " [124.20408836 131.74962837  84.71049277 ... 102.56058472 125.58009991\n",
      "  141.69261484]\n",
      " [123.1103902  129.15822776  84.74258567 ... 103.61565697 128.72460148\n",
      "  141.16600858]]\n"
     ]
    }
   ],
   "source": [
    "# Define a series of price data\n",
    "# store in an array (NDAYS X NYEARS)\n",
    "\n",
    "# Prices sampled at end of trading day\n",
    "# DeltaT in years = 1/254\n",
    "#\n",
    "S0=100\n",
    "T = 1\n",
    "Sigma = 0.2\n",
    "r = 0.05\n",
    "drift=0.05\n",
    "DeltaT=T/Nstep\n",
    "print('DeltaT', DeltaT)\n",
    "stockp=np.zeros(nran, dtype=\"float\").reshape(Nstep,Totalpaths)\n",
    "#\n",
    "# Note that the index starts at zero, not one\n",
    "npath=0\n",
    "S=S0\n",
    "for x in range(0,nran):\n",
    "    Snew=S*math.exp(((drift*DeltaT)+(Sigma*(DeltaT**0.5)*r_draw[x])))\n",
    "    step = x %254\n",
    "    if step == 253:\n",
    "        if npath < Totalpaths:\n",
    "            # print 'npath', npath, step, x, Totalpaths\n",
    "            stockp[step, npath]=Snew\n",
    "            npath=npath+1\n",
    "            print('npath', npath)\n",
    "        S=S0\n",
    "    else:\n",
    "        S=Snew\n",
    "        stockp[step, npath]=Snew\n",
    "# Check if the program exits at the last x\n",
    "print('x', x)\n",
    "print(stockp[253,0])\n",
    "# Show histogram\n",
    "print(stockp)"
   ]
  },
  {
   "cell_type": "code",
   "execution_count": 27,
   "id": "5052d823-150c-4415-8514-21b2eaafd871",
   "metadata": {},
   "outputs": [
    {
     "data": {
      "image/png": "[encoded data removed]",
      "text/plain": [
       "<Figure size 640x480 with 1 Axes>"
      ]
     },
     "metadata": {},
     "output_type": "display_data"
    }
   ],
   "source": [
    "import matplotlib.pyplot as plt\n",
    "# Plotting the histogram for r_draw\n",
    "_ = plt.hist(r_draw, bins=100)  # arguments are passed to np.histogram\n",
    "plt.title(\"Histogram with 100 Bins\")\n",
    "plt.show()"
   ]
  },
  {
   "cell_type": "code",
   "execution_count": 55,
   "id": "6d44cf82-ce39-4e35-a7ec-ed7e307bf630",
   "metadata": {},
   "outputs": [
    {
     "name": "stdout",
     "output_type": "stream",
     "text": [
      "Buy-Hold Return 2.3096460097749647\n",
      "Mavg Ret 10\n",
      "Number of Buys 5\n",
      "Number of Sells 5\n"
     ]
    }
   ],
   "source": [
    "# Trading Environment\n",
    "# Define Short-term and Long-term moving averages\n",
    "ltavg=np.zeros(Nstep, dtype='float')\n",
    "stavg=np.zeros(Nstep, dtype='float')\n",
    "S=S0\n",
    "pnl=0\n",
    "long=0\n",
    "short=0\n",
    "mavg=0\n",
    "signal=np.zeros(254, dtype='int')\n",
    "last=0\n",
    "#\n",
    "#for x in range(0,0):\n",
    "    #    print(\"x\",x)\n",
    "#\n",
    "# Calculate the averages\n",
    "#\n",
    "x=0\n",
    "for y in range(0,Nstep):\n",
    "    if y == 0:\n",
    "        ltavg[y]=S0\n",
    "        stavg[y]=S0\n",
    "        #print('y',y)\n",
    "    if y < 25:\n",
    "        ltavg[y]=ltavg[y-1]+stockp[y,x]\n",
    "    else:\n",
    "        ltavg[y]=ltavg[y-1]+stockp[y,x]-stockp[y-25,x]\n",
    "    if y < 10:\n",
    "        stavg[y]=stavg[y-1]+stockp[y,x]\n",
    "    else:\n",
    "        stavg[y]=stavg[y-1]+stockp[y,x]-stockp[y-10,x]\n",
    "for y in range(0,Nstep):\n",
    "    stavg[y]=stavg[y]/10\n",
    "    ltavg[y]=ltavg[y]/25\n",
    "    #print ('Averages',y,stavg[y],ltavg[y])\n",
    "pos=0\n",
    "trade=np.zeros(254, dtype='int')\n",
    "last=0\n",
    "for y in range(25,Nstep):\n",
    "    if stavg[y] > ltavg[y]:\n",
    "        if last==0:\n",
    "            trade[y]=1\n",
    "            last=1\n",
    "    if stavg[y] < ltavg[y]:\n",
    "        if last==1:\n",
    "            trade[y]=-1\n",
    "            last=0\n",
    "    if y==253:\n",
    "        if last==1:\n",
    "            trade[y]=-1\n",
    "            last=0\n",
    "PandL=np.zeros(254, dtype='int')\n",
    "BHRet=0\n",
    "Num_Buys=0\n",
    "Num_Sells=0\n",
    "for y in range(25,Nstep):\n",
    "    if trade[y]==1:\n",
    "        if BHRet == 0:\n",
    "            BHRet=stockp[y,x]\n",
    "        PandL[y]=PandL[y-1]+stockp[y,x]\n",
    "        Num_Buys=Num_Buys+1\n",
    "    if trade[y]==-1:\n",
    "        PandL[y]=PandL[y-1]+stockp[y,x]\n",
    "        Num_Sells=Num_Sells+1\n",
    "    if trade[y]==0:\n",
    "        PandL[y]=PandL[y-1]\n",
    "    if y == 253:\n",
    "        #print(y, x, stockp[y,x],BHRet)\n",
    "        BHRet=BHRet+stockp[y,x]\n",
    "#print(PandL)\n",
    "print('Buy-Hold Return', BHRet)\n",
    "print('Mavg Ret', PandL[253])\n",
    "print('Number of Buys', Num_Buys)\n",
    "print('Number of Sells', Num_Sells)"
   ]
  },
  {
   "cell_type": "code",
   "execution_count": null,
   "id": "12fd2930-baab-45b3-938b-57df2e64de54",
   "metadata": {},
   "outputs": [],
   "source": []
  }
 ],
 "metadata": {
  "kernelspec": {
   "display_name": "Python 3 (ipykernel)",
   "language": "python",
   "name": "python3"
  },
  "language_info": {
   "codemirror_mode": {
    "name": "ipython",
    "version": 3
   },
   "file_extension": ".py",
   "mimetype": "text/x-python",
   "name": "python",
   "nbconvert_exporter": "python",
   "pygments_lexer": "ipython3",
   "version": "3.12.4"
  }
 },
 "nbformat": 4,
 "nbformat_minor": 5
}
