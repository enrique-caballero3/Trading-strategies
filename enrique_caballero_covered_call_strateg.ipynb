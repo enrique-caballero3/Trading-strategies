{
 "cells": [
  {
   "cell_type": "code",
   "execution_count": 1,
   "id": "f78d9398-4ce5-4621-84da-62758508b679",
   "metadata": {},
   "outputs": [],
   "source": [
    "# This program implements and evaluates the Covered Call strategy\n",
    "import pandas as pd\n",
    "import random\n",
    "import numpy as np\n",
    "import bs_module\n",
    "import statistics"
   ]
  },
  {
   "cell_type": "code",
   "execution_count": 11,
   "id": "ce8e38ad-f109-409e-a0fb-3174c2148995",
   "metadata": {},
   "outputs": [
    {
     "data": {
      "image/png": "[encoded data removed]",
      "text/plain": [
       "<Figure size 640x480 with 1 Axes>"
      ]
     },
     "metadata": {},
     "output_type": "display_data"
    }
   ],
   "source": [
    "# Set up the random numbers\n",
    "numran = 1000\n",
    "np.random.seed(221)\n",
    "rand_norm_c = np.random.normal(loc=0, scale=1, size=1000000)\n",
    "import matplotlib.pyplot as plt\n",
    "plt.hist(rand_norm_c, bins=100)\n",
    "plt.title(\"Histogram with 100 Bins\")\n",
    "plt.show()"
   ]
  },
  {
   "cell_type": "code",
   "execution_count": 5,
   "id": "13a8ad94-0e46-47af-923f-14826301c949",
   "metadata": {},
   "outputs": [],
   "source": [
    "# Define parameters\n",
    "strike_vals = [0.95, 1.00, 1.05]\n",
    "drift_vals = [0.08, 0.12]\n",
    "Volatility_vals = [0.2, 0.25, 0.3]"
   ]
  },
  {
   "cell_type": "code",
   "execution_count": 17,
   "id": "c4338bd2-4f07-4323-8589-8652edc9f68b",
   "metadata": {},
   "outputs": [
    {
     "name": "stdout",
     "output_type": "stream",
     "text": [
      "Progress: Completed 1000 paths out of 10000\n",
      "Progress: Completed 2000 paths out of 10000\n",
      "Progress: Completed 3000 paths out of 10000\n",
      "Progress: Completed 4000 paths out of 10000\n",
      "Progress: Completed 5000 paths out of 10000\n",
      "Progress: Completed 6000 paths out of 10000\n",
      "Progress: Completed 7000 paths out of 10000\n",
      "Progress: Completed 8000 paths out of 10000\n",
      "Progress: Completed 9000 paths out of 10000\n",
      "Progress: Completed 10000 paths out of 10000\n",
      "Total completed paths: 10000\n",
      "Risk-free rate (rf): 0.1\n"
     ]
    }
   ],
   "source": [
    "S0 = 85 \n",
    "rf = 0.10 \n",
    "T = 1 / 12 \n",
    "numpath = 10000  \n",
    "strike = strike_vals[1] \n",
    "drift = drift_vals[1] \n",
    "Volatility = Volatility_vals[1]\n",
    "#\n",
    "CoveredCall_Rets = np.zeros((numpath))\n",
    "St_Ret = np.zeros((numpath))\n",
    "jcount = 0\n",
    "lcount = 0\n",
    "while jcount < numpath:\n",
    "    S_t = S0\n",
    "    k0 = int(S0 * strike)\n",
    "    m0 = 2 / 12  # Maturity in months\n",
    "    Call_Val = bs_module.bsval(S0, k0, rf, m0, Volatility, 1)  # European call option value\n",
    "    for kcount in range(12):\n",
    "        if lcount >= len(rand_norm_c):\n",
    "            print(\"Error: ran out of random numbers:/\")\n",
    "            break\n",
    "        S_t1 = S_t * (np.exp(drift * T + Volatility * np.sqrt(T) * rand_norm_c[lcount]))\n",
    "#\n",
    "        #option values for call option\n",
    "        kt = int(S_t * strike)\n",
    "        mt = 1 / 12\n",
    "        CC_t = bs_module.bsval(S_t, kt, rf, mt, Volatility, 1)  \n",
    "        kt1 = int(S_t1 * strike)\n",
    "        mt1 = 2 / 12\n",
    "        CC_t1 = bs_module.bsval(S_t1, kt1, rf, mt1, Volatility, 1)\n",
    "        if kcount > 10:\n",
    "            #stock price minus the intrinsic value of the call\n",
    "            CoveredCall_Val = Call_Val * np.exp(rf / 12) - max(0, S_t1 - k0) + S_t1\n",
    "            CoveredCall_Rets[jcount] = np.log(CoveredCall_Val / S0)\n",
    "            St_Ret[jcount] = np.log(S_t1 / S0)    \n",
    "        if kcount < 11:\n",
    "            #stock price + option premium\n",
    "            Call_Val = Call_Val * np.exp(rf / 12) + (CC_t - CC_t1)  \n",
    "        #update the price\n",
    "        S_t = S_t1\n",
    "        lcount += 1\n",
    "    #check that we didn't exit early cause random number\n",
    "    if lcount >= len(rand_norm_c):\n",
    "        print(\"Terminating program early due to random number exhaustion.\")\n",
    "        break\n",
    "    #increment jcount after the full thing\n",
    "    jcount += 1\n",
    "    if jcount % 1000 == 0:\n",
    "        print(f\"Progress: Completed {jcount} paths out of {numpath}\")\n",
    "print(\"Total completed paths:\", jcount)\n",
    "print(\"Risk-free rate (rf):\", rf)"
   ]
  },
  {
   "cell_type": "code",
   "execution_count": 8,
   "id": "61cb9e9a-6edd-4691-80a2-905672991fae",
   "metadata": {},
   "outputs": [
    {
     "name": "stdout",
     "output_type": "stream",
     "text": [
      "0.12280285469121827 0.25066953460997815\n",
      "-0.0575437629538355 0.09806268299678397\n"
     ]
    }
   ],
   "source": [
    "#calculations for mean and standard deviation\n",
    "mean_s = statistics.mean(St_Ret)\n",
    "sd_s = statistics.stdev(St_Ret)\n",
    "mean_cc = statistics.mean(CoveredCall_Rets)\n",
    "sd_cc = statistics.stdev(CoveredCall_Rets)\n",
    "print(mean_s, sd_s)\n",
    "print(mean_cc, sd_cc)"
   ]
  },
  {
   "cell_type": "code",
   "execution_count": null,
   "id": "0efffceb-0500-46db-907a-e1deb5957c28",
   "metadata": {},
   "outputs": [],
   "source": []
  }
 ],
 "metadata": {
  "kernelspec": {
   "display_name": "Python 3 (ipykernel)",
   "language": "python",
   "name": "python3"
  },
  "language_info": {
   "codemirror_mode": {
    "name": "ipython",
    "version": 3
   },
   "file_extension": ".py",
   "mimetype": "text/x-python",
   "name": "python",
   "nbconvert_exporter": "python",
   "pygments_lexer": "ipython3",
   "version": "3.12.4"
  }
 },
 "nbformat": 4,
 "nbformat_minor": 5
}
